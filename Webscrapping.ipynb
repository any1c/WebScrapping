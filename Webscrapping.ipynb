{
 "cells": [
  {
   "cell_type": "code",
   "execution_count": null,
   "id": "b359fece-94bf-4d0a-b4c2-c013c816f3f2",
   "metadata": {},
   "outputs": [],
   "source": []
  },
  {
   "cell_type": "code",
   "execution_count": null,
   "id": "cb502172-b51d-4ec3-b893-fe84e3beeefa",
   "metadata": {},
   "outputs": [],
   "source": [
    "\"\"\"\n",
    "Q1.What is Web Scraping? Why is it Used? Give three areas where Web Scraping is used to get data.\n",
    "\"\"\""
   ]
  },
  {
   "cell_type": "code",
   "execution_count": null,
   "id": "5b8c2495-29f2-41f0-b6e1-d83ca536ff3e",
   "metadata": {},
   "outputs": [],
   "source": [
    "\"\"\"\n",
    "Web Scarpping is a method used to extract data from the web, it invloves fetching the HTML code of\n",
    "a web page, it is used the collect the data for market reserach, sales intelligence, financial intelligence.\n",
    "Three areas where web sceapping is used are ML Technique, Analyzing Social Media, Product Performace.\n",
    "\"\"\""
   ]
  },
  {
   "cell_type": "code",
   "execution_count": null,
   "id": "809b0123-a47b-4353-80a6-7fee54de9ad6",
   "metadata": {},
   "outputs": [],
   "source": []
  },
  {
   "cell_type": "code",
   "execution_count": null,
   "id": "a3a13d52-700b-4944-b704-6370806d0db2",
   "metadata": {},
   "outputs": [],
   "source": [
    "\"\"\"\n",
    "Q2.What are the different methods used for Web Scraping?\n",
    "\"\"\""
   ]
  },
  {
   "cell_type": "code",
   "execution_count": null,
   "id": "b2788090-a728-41d4-afef-55a0ab3cd161",
   "metadata": {},
   "outputs": [],
   "source": [
    "\"\"\"\n",
    "The different methods for web scrapping are below:\n",
    "1)Simple and easy way copy and paste\n",
    "2)HTTP programming\n",
    "3)HTML prasing - I follow this one with python libaries\n",
    "with help of flask, flask_cors, requests, urllib, logging.\n",
    "\"\"\""
   ]
  },
  {
   "cell_type": "code",
   "execution_count": null,
   "id": "408b3ff8-e9ca-45d9-89d7-5656a7c1b120",
   "metadata": {},
   "outputs": [],
   "source": []
  },
  {
   "cell_type": "code",
   "execution_count": null,
   "id": "87dca25a-9d83-4e54-aa90-0efc31a6fdee",
   "metadata": {},
   "outputs": [],
   "source": [
    "\"\"\"\n",
    "Q3.What is Beautiful Soup? Why is it used?\n",
    "\"\"\""
   ]
  },
  {
   "cell_type": "code",
   "execution_count": null,
   "id": "33fb3dd2-ca02-4509-b0c1-c20140f7f5ea",
   "metadata": {},
   "outputs": [],
   "source": [
    "\"\"\"\n",
    "Beautiful soup is a python package for parsing HTML AND XML documents, it creates the documents in more\n",
    "readable form so that one can use it for web scraping, Beautiful Soup is import from bs4 and we can also give \n",
    "(alias) as to it.\n",
    "\"\"\""
   ]
  },
  {
   "cell_type": "code",
   "execution_count": null,
   "id": "f11a1f95-4439-4d30-998d-3bd8b0ea26f0",
   "metadata": {},
   "outputs": [],
   "source": []
  },
  {
   "cell_type": "code",
   "execution_count": null,
   "id": "c5824ae4-2a9a-4837-b49a-b0477bae0fb9",
   "metadata": {},
   "outputs": [],
   "source": [
    "\"\"\"\n",
    "Q4. Why is flask used in this Web Scraping project?\n",
    "\"\"\""
   ]
  },
  {
   "cell_type": "code",
   "execution_count": null,
   "id": "36a095ab-093c-4293-acf3-44a3b0174fdc",
   "metadata": {},
   "outputs": [],
   "source": [
    "\"\"\"\n",
    "Flask is popular python web framework used in many web developement becausce it is a loghtweight,\n",
    "it the best framework for URL mapping and routing, it is also best for RESTful API developement.\n",
    "\"\""
   ]
  },
  {
   "cell_type": "code",
   "execution_count": null,
   "id": "cd2fa139-4e86-4bf5-a6ff-7889721ee9df",
   "metadata": {},
   "outputs": [],
   "source": []
  },
  {
   "cell_type": "code",
   "execution_count": null,
   "id": "29ad0c62-acc4-466a-83d9-b15204d7fee3",
   "metadata": {},
   "outputs": [],
   "source": [
    "\"\"\"\n",
    "Q5.Write the names of AWS services used in this project. Also, explain the use of each service.\n",
    "\"\"\""
   ]
  },
  {
   "cell_type": "code",
   "execution_count": null,
   "id": "0a247f92-04b0-4ee9-be90-869bc7b03c66",
   "metadata": {},
   "outputs": [],
   "source": [
    "\"\"\"\n",
    "The name of three AWS services are:\n",
    "1) IAM - here we create a role EC2 which would help us to deploy the enviornment.\n",
    "2) Elastic BeanStalk: This is where we create our enviorment, which accept our code from code pipline,\n",
    "and deploy our website once it is ready, if there is any kind of error you will get here.\n",
    "2) CodePipeline- With this feature we get our code  mainly from github or some other source, to the BeanStalk.\n",
    "\"\"\""
   ]
  }
 ],
 "metadata": {
  "kernelspec": {
   "display_name": "Python 3 (ipykernel)",
   "language": "python",
   "name": "python3"
  },
  "language_info": {
   "codemirror_mode": {
    "name": "ipython",
    "version": 3
   },
   "file_extension": ".py",
   "mimetype": "text/x-python",
   "name": "python",
   "nbconvert_exporter": "python",
   "pygments_lexer": "ipython3",
   "version": "3.10.8"
  }
 },
 "nbformat": 4,
 "nbformat_minor": 5
}
